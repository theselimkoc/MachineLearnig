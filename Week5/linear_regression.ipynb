{
  "cells": [
    {
      "cell_type": "markdown",
      "source": [
        "# **Linear Regression**"
      ],
      "metadata": {
        "id": "eBYNstEE3nLi"
      }
    },
    {
      "cell_type": "code",
      "execution_count": 1,
      "metadata": {
        "id": "KpuBAu9Uk0l5",
        "colab": {
          "base_uri": "https://localhost:8080/"
        },
        "outputId": "c66651a4-3ddb-4596-afb2-943cc7febb19"
      },
      "outputs": [
        {
          "output_type": "stream",
          "name": "stdout",
          "text": [
            "Mounted at /content/drive\n"
          ]
        }
      ],
      "source": [
        "import pandas as pd\n",
        "import matplotlib.pyplot as plt\n",
        "import numpy as np\n",
        "\n",
        "from google.colab import drive\n",
        "drive.mount('/content/drive')"
      ]
    },
    {
      "cell_type": "code",
      "execution_count": 4,
      "metadata": {
        "id": "6n7xth1Dk0l_"
      },
      "outputs": [],
      "source": [
        "df = pd.read_csv(\"/content/drive/MyDrive/data/linear_regression_dataset.csv\")"
      ]
    },
    {
      "cell_type": "code",
      "source": [
        "df #dataframede featurelar ve valuelar arasında noktalı virgül bulunmaktadır.\n",
        "   #bundan kurtulmak için data yüklenirken sep methodu kullanılır.\n",
        "   #eğer seperator methoduna değer yazılmazsa default olarak virgülleri ayırır.\n",
        "   #ancak bu datada noktalı virgüller bulunduğu için sep=\";\" yazmak gereklidir."
      ],
      "metadata": {
        "colab": {
          "base_uri": "https://localhost:8080/",
          "height": 488
        },
        "id": "pjC2fCCszrji",
        "outputId": "ed6c56ce-d8ac-463a-fe34-ea307c27263b"
      },
      "execution_count": 9,
      "outputs": [
        {
          "output_type": "execute_result",
          "data": {
            "text/plain": [
              "    deneyim   maas\n",
              "0       0.5   2500\n",
              "1       0.0   2250\n",
              "2       1.0   2750\n",
              "3       5.0   8000\n",
              "4       8.0   9000\n",
              "5       4.0   6900\n",
              "6      15.0  20000\n",
              "7       7.0   8500\n",
              "8       3.0   6000\n",
              "9       2.0   3500\n",
              "10     12.0  15000\n",
              "11     10.0  13000\n",
              "12     14.0  18000\n",
              "13      6.0   7500"
            ],
            "text/html": [
              "\n",
              "  <div id=\"df-a3427dee-6596-46cb-861f-3dff8fc13053\">\n",
              "    <div class=\"colab-df-container\">\n",
              "      <div>\n",
              "<style scoped>\n",
              "    .dataframe tbody tr th:only-of-type {\n",
              "        vertical-align: middle;\n",
              "    }\n",
              "\n",
              "    .dataframe tbody tr th {\n",
              "        vertical-align: top;\n",
              "    }\n",
              "\n",
              "    .dataframe thead th {\n",
              "        text-align: right;\n",
              "    }\n",
              "</style>\n",
              "<table border=\"1\" class=\"dataframe\">\n",
              "  <thead>\n",
              "    <tr style=\"text-align: right;\">\n",
              "      <th></th>\n",
              "      <th>deneyim</th>\n",
              "      <th>maas</th>\n",
              "    </tr>\n",
              "  </thead>\n",
              "  <tbody>\n",
              "    <tr>\n",
              "      <th>0</th>\n",
              "      <td>0.5</td>\n",
              "      <td>2500</td>\n",
              "    </tr>\n",
              "    <tr>\n",
              "      <th>1</th>\n",
              "      <td>0.0</td>\n",
              "      <td>2250</td>\n",
              "    </tr>\n",
              "    <tr>\n",
              "      <th>2</th>\n",
              "      <td>1.0</td>\n",
              "      <td>2750</td>\n",
              "    </tr>\n",
              "    <tr>\n",
              "      <th>3</th>\n",
              "      <td>5.0</td>\n",
              "      <td>8000</td>\n",
              "    </tr>\n",
              "    <tr>\n",
              "      <th>4</th>\n",
              "      <td>8.0</td>\n",
              "      <td>9000</td>\n",
              "    </tr>\n",
              "    <tr>\n",
              "      <th>5</th>\n",
              "      <td>4.0</td>\n",
              "      <td>6900</td>\n",
              "    </tr>\n",
              "    <tr>\n",
              "      <th>6</th>\n",
              "      <td>15.0</td>\n",
              "      <td>20000</td>\n",
              "    </tr>\n",
              "    <tr>\n",
              "      <th>7</th>\n",
              "      <td>7.0</td>\n",
              "      <td>8500</td>\n",
              "    </tr>\n",
              "    <tr>\n",
              "      <th>8</th>\n",
              "      <td>3.0</td>\n",
              "      <td>6000</td>\n",
              "    </tr>\n",
              "    <tr>\n",
              "      <th>9</th>\n",
              "      <td>2.0</td>\n",
              "      <td>3500</td>\n",
              "    </tr>\n",
              "    <tr>\n",
              "      <th>10</th>\n",
              "      <td>12.0</td>\n",
              "      <td>15000</td>\n",
              "    </tr>\n",
              "    <tr>\n",
              "      <th>11</th>\n",
              "      <td>10.0</td>\n",
              "      <td>13000</td>\n",
              "    </tr>\n",
              "    <tr>\n",
              "      <th>12</th>\n",
              "      <td>14.0</td>\n",
              "      <td>18000</td>\n",
              "    </tr>\n",
              "    <tr>\n",
              "      <th>13</th>\n",
              "      <td>6.0</td>\n",
              "      <td>7500</td>\n",
              "    </tr>\n",
              "  </tbody>\n",
              "</table>\n",
              "</div>\n",
              "      <button class=\"colab-df-convert\" onclick=\"convertToInteractive('df-a3427dee-6596-46cb-861f-3dff8fc13053')\"\n",
              "              title=\"Convert this dataframe to an interactive table.\"\n",
              "              style=\"display:none;\">\n",
              "        \n",
              "  <svg xmlns=\"http://www.w3.org/2000/svg\" height=\"24px\"viewBox=\"0 0 24 24\"\n",
              "       width=\"24px\">\n",
              "    <path d=\"M0 0h24v24H0V0z\" fill=\"none\"/>\n",
              "    <path d=\"M18.56 5.44l.94 2.06.94-2.06 2.06-.94-2.06-.94-.94-2.06-.94 2.06-2.06.94zm-11 1L8.5 8.5l.94-2.06 2.06-.94-2.06-.94L8.5 2.5l-.94 2.06-2.06.94zm10 10l.94 2.06.94-2.06 2.06-.94-2.06-.94-.94-2.06-.94 2.06-2.06.94z\"/><path d=\"M17.41 7.96l-1.37-1.37c-.4-.4-.92-.59-1.43-.59-.52 0-1.04.2-1.43.59L10.3 9.45l-7.72 7.72c-.78.78-.78 2.05 0 2.83L4 21.41c.39.39.9.59 1.41.59.51 0 1.02-.2 1.41-.59l7.78-7.78 2.81-2.81c.8-.78.8-2.07 0-2.86zM5.41 20L4 18.59l7.72-7.72 1.47 1.35L5.41 20z\"/>\n",
              "  </svg>\n",
              "      </button>\n",
              "      \n",
              "  <style>\n",
              "    .colab-df-container {\n",
              "      display:flex;\n",
              "      flex-wrap:wrap;\n",
              "      gap: 12px;\n",
              "    }\n",
              "\n",
              "    .colab-df-convert {\n",
              "      background-color: #E8F0FE;\n",
              "      border: none;\n",
              "      border-radius: 50%;\n",
              "      cursor: pointer;\n",
              "      display: none;\n",
              "      fill: #1967D2;\n",
              "      height: 32px;\n",
              "      padding: 0 0 0 0;\n",
              "      width: 32px;\n",
              "    }\n",
              "\n",
              "    .colab-df-convert:hover {\n",
              "      background-color: #E2EBFA;\n",
              "      box-shadow: 0px 1px 2px rgba(60, 64, 67, 0.3), 0px 1px 3px 1px rgba(60, 64, 67, 0.15);\n",
              "      fill: #174EA6;\n",
              "    }\n",
              "\n",
              "    [theme=dark] .colab-df-convert {\n",
              "      background-color: #3B4455;\n",
              "      fill: #D2E3FC;\n",
              "    }\n",
              "\n",
              "    [theme=dark] .colab-df-convert:hover {\n",
              "      background-color: #434B5C;\n",
              "      box-shadow: 0px 1px 3px 1px rgba(0, 0, 0, 0.15);\n",
              "      filter: drop-shadow(0px 1px 2px rgba(0, 0, 0, 0.3));\n",
              "      fill: #FFFFFF;\n",
              "    }\n",
              "  </style>\n",
              "\n",
              "      <script>\n",
              "        const buttonEl =\n",
              "          document.querySelector('#df-a3427dee-6596-46cb-861f-3dff8fc13053 button.colab-df-convert');\n",
              "        buttonEl.style.display =\n",
              "          google.colab.kernel.accessAllowed ? 'block' : 'none';\n",
              "\n",
              "        async function convertToInteractive(key) {\n",
              "          const element = document.querySelector('#df-a3427dee-6596-46cb-861f-3dff8fc13053');\n",
              "          const dataTable =\n",
              "            await google.colab.kernel.invokeFunction('convertToInteractive',\n",
              "                                                     [key], {});\n",
              "          if (!dataTable) return;\n",
              "\n",
              "          const docLinkHtml = 'Like what you see? Visit the ' +\n",
              "            '<a target=\"_blank\" href=https://colab.research.google.com/notebooks/data_table.ipynb>data table notebook</a>'\n",
              "            + ' to learn more about interactive tables.';\n",
              "          element.innerHTML = '';\n",
              "          dataTable['output_type'] = 'display_data';\n",
              "          await google.colab.output.renderOutput(dataTable, element);\n",
              "          const docLink = document.createElement('div');\n",
              "          docLink.innerHTML = docLinkHtml;\n",
              "          element.appendChild(docLink);\n",
              "        }\n",
              "      </script>\n",
              "    </div>\n",
              "  </div>\n",
              "  "
            ]
          },
          "metadata": {},
          "execution_count": 9
        }
      ]
    },
    {
      "cell_type": "code",
      "source": [
        "df = pd.read_csv(\"/content/drive/MyDrive/data/linear_regression_dataset.csv\", sep=\";\")"
      ],
      "metadata": {
        "id": "xXACJ_Hjz8SS"
      },
      "execution_count": 10,
      "outputs": []
    },
    {
      "cell_type": "code",
      "source": [
        "df.head()  #dataframedeki featurelar ve valuelar birbirinden ayrılmıştır."
      ],
      "metadata": {
        "colab": {
          "base_uri": "https://localhost:8080/",
          "height": 206
        },
        "id": "K5fLQaFv0A8J",
        "outputId": "645b7cc8-ee7e-4446-b06c-d027cc7449ef"
      },
      "execution_count": 11,
      "outputs": [
        {
          "output_type": "execute_result",
          "data": {
            "text/plain": [
              "   deneyim  maas\n",
              "0      0.5  2500\n",
              "1      0.0  2250\n",
              "2      1.0  2750\n",
              "3      5.0  8000\n",
              "4      8.0  9000"
            ],
            "text/html": [
              "\n",
              "  <div id=\"df-216b4dff-00b1-41a5-93eb-a3f6a3e5efc9\">\n",
              "    <div class=\"colab-df-container\">\n",
              "      <div>\n",
              "<style scoped>\n",
              "    .dataframe tbody tr th:only-of-type {\n",
              "        vertical-align: middle;\n",
              "    }\n",
              "\n",
              "    .dataframe tbody tr th {\n",
              "        vertical-align: top;\n",
              "    }\n",
              "\n",
              "    .dataframe thead th {\n",
              "        text-align: right;\n",
              "    }\n",
              "</style>\n",
              "<table border=\"1\" class=\"dataframe\">\n",
              "  <thead>\n",
              "    <tr style=\"text-align: right;\">\n",
              "      <th></th>\n",
              "      <th>deneyim</th>\n",
              "      <th>maas</th>\n",
              "    </tr>\n",
              "  </thead>\n",
              "  <tbody>\n",
              "    <tr>\n",
              "      <th>0</th>\n",
              "      <td>0.5</td>\n",
              "      <td>2500</td>\n",
              "    </tr>\n",
              "    <tr>\n",
              "      <th>1</th>\n",
              "      <td>0.0</td>\n",
              "      <td>2250</td>\n",
              "    </tr>\n",
              "    <tr>\n",
              "      <th>2</th>\n",
              "      <td>1.0</td>\n",
              "      <td>2750</td>\n",
              "    </tr>\n",
              "    <tr>\n",
              "      <th>3</th>\n",
              "      <td>5.0</td>\n",
              "      <td>8000</td>\n",
              "    </tr>\n",
              "    <tr>\n",
              "      <th>4</th>\n",
              "      <td>8.0</td>\n",
              "      <td>9000</td>\n",
              "    </tr>\n",
              "  </tbody>\n",
              "</table>\n",
              "</div>\n",
              "      <button class=\"colab-df-convert\" onclick=\"convertToInteractive('df-216b4dff-00b1-41a5-93eb-a3f6a3e5efc9')\"\n",
              "              title=\"Convert this dataframe to an interactive table.\"\n",
              "              style=\"display:none;\">\n",
              "        \n",
              "  <svg xmlns=\"http://www.w3.org/2000/svg\" height=\"24px\"viewBox=\"0 0 24 24\"\n",
              "       width=\"24px\">\n",
              "    <path d=\"M0 0h24v24H0V0z\" fill=\"none\"/>\n",
              "    <path d=\"M18.56 5.44l.94 2.06.94-2.06 2.06-.94-2.06-.94-.94-2.06-.94 2.06-2.06.94zm-11 1L8.5 8.5l.94-2.06 2.06-.94-2.06-.94L8.5 2.5l-.94 2.06-2.06.94zm10 10l.94 2.06.94-2.06 2.06-.94-2.06-.94-.94-2.06-.94 2.06-2.06.94z\"/><path d=\"M17.41 7.96l-1.37-1.37c-.4-.4-.92-.59-1.43-.59-.52 0-1.04.2-1.43.59L10.3 9.45l-7.72 7.72c-.78.78-.78 2.05 0 2.83L4 21.41c.39.39.9.59 1.41.59.51 0 1.02-.2 1.41-.59l7.78-7.78 2.81-2.81c.8-.78.8-2.07 0-2.86zM5.41 20L4 18.59l7.72-7.72 1.47 1.35L5.41 20z\"/>\n",
              "  </svg>\n",
              "      </button>\n",
              "      \n",
              "  <style>\n",
              "    .colab-df-container {\n",
              "      display:flex;\n",
              "      flex-wrap:wrap;\n",
              "      gap: 12px;\n",
              "    }\n",
              "\n",
              "    .colab-df-convert {\n",
              "      background-color: #E8F0FE;\n",
              "      border: none;\n",
              "      border-radius: 50%;\n",
              "      cursor: pointer;\n",
              "      display: none;\n",
              "      fill: #1967D2;\n",
              "      height: 32px;\n",
              "      padding: 0 0 0 0;\n",
              "      width: 32px;\n",
              "    }\n",
              "\n",
              "    .colab-df-convert:hover {\n",
              "      background-color: #E2EBFA;\n",
              "      box-shadow: 0px 1px 2px rgba(60, 64, 67, 0.3), 0px 1px 3px 1px rgba(60, 64, 67, 0.15);\n",
              "      fill: #174EA6;\n",
              "    }\n",
              "\n",
              "    [theme=dark] .colab-df-convert {\n",
              "      background-color: #3B4455;\n",
              "      fill: #D2E3FC;\n",
              "    }\n",
              "\n",
              "    [theme=dark] .colab-df-convert:hover {\n",
              "      background-color: #434B5C;\n",
              "      box-shadow: 0px 1px 3px 1px rgba(0, 0, 0, 0.15);\n",
              "      filter: drop-shadow(0px 1px 2px rgba(0, 0, 0, 0.3));\n",
              "      fill: #FFFFFF;\n",
              "    }\n",
              "  </style>\n",
              "\n",
              "      <script>\n",
              "        const buttonEl =\n",
              "          document.querySelector('#df-216b4dff-00b1-41a5-93eb-a3f6a3e5efc9 button.colab-df-convert');\n",
              "        buttonEl.style.display =\n",
              "          google.colab.kernel.accessAllowed ? 'block' : 'none';\n",
              "\n",
              "        async function convertToInteractive(key) {\n",
              "          const element = document.querySelector('#df-216b4dff-00b1-41a5-93eb-a3f6a3e5efc9');\n",
              "          const dataTable =\n",
              "            await google.colab.kernel.invokeFunction('convertToInteractive',\n",
              "                                                     [key], {});\n",
              "          if (!dataTable) return;\n",
              "\n",
              "          const docLinkHtml = 'Like what you see? Visit the ' +\n",
              "            '<a target=\"_blank\" href=https://colab.research.google.com/notebooks/data_table.ipynb>data table notebook</a>'\n",
              "            + ' to learn more about interactive tables.';\n",
              "          element.innerHTML = '';\n",
              "          dataTable['output_type'] = 'display_data';\n",
              "          await google.colab.output.renderOutput(dataTable, element);\n",
              "          const docLink = document.createElement('div');\n",
              "          docLink.innerHTML = docLinkHtml;\n",
              "          element.appendChild(docLink);\n",
              "        }\n",
              "      </script>\n",
              "    </div>\n",
              "  </div>\n",
              "  "
            ]
          },
          "metadata": {},
          "execution_count": 11
        }
      ]
    },
    {
      "cell_type": "code",
      "execution_count": 12,
      "metadata": {
        "scrolled": false,
        "colab": {
          "base_uri": "https://localhost:8080/",
          "height": 449
        },
        "id": "7cyhDi_Wk0mA",
        "outputId": "a7ec2642-e617-4bd1-b577-3650ae07d10e"
      },
      "outputs": [
        {
          "output_type": "display_data",
          "data": {
            "text/plain": [
              "<Figure size 640x480 with 1 Axes>"
            ],
            "image/png": "[encoded data removed]"
          },
          "metadata": {}
        }
      ],
      "source": [
        "plt.scatter(df.deneyim,df.maas) #x ve y koordinatlarına hangi sütunların geleceği belirlenir.\n",
        "plt.xlabel(\"Deneyim\") #x ekseninin adı atanır\n",
        "plt.ylabel(\"Maas\")    #y ekseninin adı atanır.\n",
        "plt.show()   "
      ]
    },
    {
      "cell_type": "markdown",
      "source": [
        "\n",
        "Plot incelendiğinde x ekseni deneyim, y ekseni maaştır.\n",
        "\n",
        "Deneyim arttıkça maaşın da artacağı, aralarında bir doğru orantı olduğu anlaşılır.\n",
        "\n",
        "9 yıl deneyimi olan birinin maaşının yaklaşık olarak 11000 olacağı anlaşılır. İnsan zihni bu iki feature arasında görünmez bir line olduğunu düşünür ve hesaplamaları da bu line'a göre yapar.\n",
        "\n",
        "Bu hesaplamayı makinenin yapabilmesi için noktalar arasına bir line'ın fit edilmesi lazımdır. Böylelikle bir model oluşturulmuş olur. (fit a line to dataset observations)\n",
        "\n",
        "Daha sonra fit edilen line istenilen değeri predict etmekte kullanılır.\n",
        "\n",
        "Bu methodun adına \"**line fit**\" ya da \"**linear regression**\" methodu denir.\n",
        "\n",
        "**b0(constant)(bias)** = Line'ın y eksenini kestiği yer ve regresyon sabitidir.\n",
        "\n",
        "**b1(coefficient)** = Line'ın eğimi veya regresyon katsayısıdır.\n",
        "\n",
        "**y = b0 + b1*x** -> linear regression'ın matematiksel formülüdür.\n",
        "\n",
        "**y -> bağımlı değişken**\n",
        "\n",
        "**x-> bağımsız değişken** \n",
        "\n",
        "Bağımsız değişken ile bağımlı değişken tahmin edilmeye çalışılır.\n"
      ],
      "metadata": {
        "id": "CIhmgHO30Xur"
      }
    },
    {
      "cell_type": "markdown",
      "source": [
        "![1__PnFnN7TQHqBsHSxqylTcg.png](data:image/png;base64,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)"
      ],
      "metadata": {
        "id": "cnx3bHpZzCF5"
      }
    },
    {
      "cell_type": "markdown",
      "source": [
        "Line çizerken amaç tüm noktalara en yakın şekilde geçmesidir. Plot incelediğinde line bazı noktaların tam üzerinden geçerken bazı noktalara uzak kalmıştır. Bu noktaları tahmin edebilmek için ilk olarak **residual** hesaplanır. Residual gerçek y değeri ve tahmin edilen değer arasındaki farktır. Başka bir deyişle tahmin yaparken yapılan hata olarak da açıklanabilir.\n",
        "\n",
        "**residual** = y - y_head\n",
        "\n",
        "**y_head** -> predict edilen değerdir.\n",
        "\n",
        "**y** -> gözlemlenen değer\n",
        "\n",
        "Plota bakıldığında bazı residual değerlerinin eksi, bazılarının artı çıktığı görülür. Hepsi toplandığında birbirlerini götürecekler ve hiç hata yokmuş gibi gözükecektir.Bunun önüne geçmek için residual değerlerinin kareleri alınır ve toplama işlemi gerçekleştirilir.\n",
        "\n",
        "**sum(residual^2)**\n",
        "\n",
        "Son olarak bu toplam formülü n'e bölünür. Buradaki n değeri plottaki noktaların toplam sayısıdır. \n",
        "\n",
        "**sum((y-y_head)^2)/n -> MSE(Mean Squared Error)**\n",
        "\n",
        "Linear Regression'da bir line'ı fit etmek için kullanılan yöntem MSE(Mean Squared Error)'dır.\n",
        "\n",
        "Modeli oluştururken amaç MSE değerini düşük tutmaktır. Çünkü MSE değeri ne kadar düşük çıkarsa modeldeki hata oranı o kadar azdır ve doğru bir tahmin gerçekleştirildiği anlamına gelir."
      ],
      "metadata": {
        "id": "DctJIe-Bzc7l"
      }
    },
    {
      "cell_type": "markdown",
      "source": [
        "![1_jE0Ep1y-avKw5CvBKevX4A.png](data:image/png;base64,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)"
      ],
      "metadata": {
        "id": "KDoafDpw5kwK"
      }
    },
    {
      "cell_type": "markdown",
      "source": [
        "MSE'yi düşük tutabilmek için y = b0 + b1*x formülündeki en uygun b0 ve b1 değerleri bulunmalıdır. Çünkü bu formülden çıkan y değeri residual hesaplanırken kullanırken y değeridir."
      ],
      "metadata": {
        "id": "IrYtV-_C7ydC"
      }
    },
    {
      "cell_type": "code",
      "source": [
        "#line'ı fit edebilmek için x ve y eksenlerine ihtiyaç vardır.\n",
        "x = df.deneyim.values               #deneyim ve maas featureları pandas türünde bir seridir.\n",
        "                                    #values methoduyla numpy türünde bir array'e çevrilir."
      ],
      "metadata": {
        "id": "mTQzjfcx4oSu"
      },
      "execution_count": 13,
      "outputs": []
    },
    {
      "cell_type": "code",
      "source": [
        "x.shape #bu feature 14 satır 1 sütundan oluşmaktadır.\n",
        "        #Ancak sklearn (14,1) görmek ister.\n",
        "        #bunun için reshape(-1,1) yazılırsa tüm satırların 1 sütundan oluştuğu belirtilmiş olur."
      ],
      "metadata": {
        "colab": {
          "base_uri": "https://localhost:8080/"
        },
        "id": "EyBYb8El_a-8",
        "outputId": "04477bcf-6f36-4f2d-cc50-a8b2e0dee722"
      },
      "execution_count": 14,
      "outputs": [
        {
          "output_type": "execute_result",
          "data": {
            "text/plain": [
              "(14,)"
            ]
          },
          "metadata": {},
          "execution_count": 14
        }
      ]
    },
    {
      "cell_type": "code",
      "source": [
        "x = df.deneyim.values.reshape(-1,1)\n",
        "y = df.maas.values.reshape(-1,1)"
      ],
      "metadata": {
        "id": "C4ABbqu8AxZJ"
      },
      "execution_count": 15,
      "outputs": []
    },
    {
      "cell_type": "code",
      "execution_count": 16,
      "metadata": {
        "colab": {
          "base_uri": "https://localhost:8080/",
          "height": 74
        },
        "id": "yYxuPeQ3k0mB",
        "outputId": "656122d9-85bf-4be2-dedb-043fabadf8db"
      },
      "outputs": [
        {
          "output_type": "execute_result",
          "data": {
            "text/plain": [
              "LinearRegression()"
            ],
            "text/html": [
              "<style>#sk-container-id-1 {color: black;background-color: white;}#sk-container-id-1 pre{padding: 0;}#sk-container-id-1 div.sk-toggleable {background-color: white;}#sk-container-id-1 label.sk-toggleable__label {cursor: pointer;display: block;width: 100%;margin-bottom: 0;padding: 0.3em;box-sizing: border-box;text-align: center;}#sk-container-id-1 label.sk-toggleable__label-arrow:before {content: \"▸\";float: left;margin-right: 0.25em;color: #696969;}#sk-container-id-1 label.sk-toggleable__label-arrow:hover:before {color: black;}#sk-container-id-1 div.sk-estimator:hover label.sk-toggleable__label-arrow:before {color: black;}#sk-container-id-1 div.sk-toggleable__content {max-height: 0;max-width: 0;overflow: hidden;text-align: left;background-color: #f0f8ff;}#sk-container-id-1 div.sk-toggleable__content pre {margin: 0.2em;color: black;border-radius: 0.25em;background-color: #f0f8ff;}#sk-container-id-1 input.sk-toggleable__control:checked~div.sk-toggleable__content {max-height: 200px;max-width: 100%;overflow: auto;}#sk-container-id-1 input.sk-toggleable__control:checked~label.sk-toggleable__label-arrow:before {content: \"▾\";}#sk-container-id-1 div.sk-estimator input.sk-toggleable__control:checked~label.sk-toggleable__label {background-color: #d4ebff;}#sk-container-id-1 div.sk-label input.sk-toggleable__control:checked~label.sk-toggleable__label {background-color: #d4ebff;}#sk-container-id-1 input.sk-hidden--visually {border: 0;clip: rect(1px 1px 1px 1px);clip: rect(1px, 1px, 1px, 1px);height: 1px;margin: -1px;overflow: hidden;padding: 0;position: absolute;width: 1px;}#sk-container-id-1 div.sk-estimator {font-family: monospace;background-color: #f0f8ff;border: 1px dotted black;border-radius: 0.25em;box-sizing: border-box;margin-bottom: 0.5em;}#sk-container-id-1 div.sk-estimator:hover {background-color: #d4ebff;}#sk-container-id-1 div.sk-parallel-item::after {content: \"\";width: 100%;border-bottom: 1px solid gray;flex-grow: 1;}#sk-container-id-1 div.sk-label:hover label.sk-toggleable__label {background-color: #d4ebff;}#sk-container-id-1 div.sk-serial::before {content: \"\";position: absolute;border-left: 1px solid gray;box-sizing: border-box;top: 0;bottom: 0;left: 50%;z-index: 0;}#sk-container-id-1 div.sk-serial {display: flex;flex-direction: column;align-items: center;background-color: white;padding-right: 0.2em;padding-left: 0.2em;position: relative;}#sk-container-id-1 div.sk-item {position: relative;z-index: 1;}#sk-container-id-1 div.sk-parallel {display: flex;align-items: stretch;justify-content: center;background-color: white;position: relative;}#sk-container-id-1 div.sk-item::before, #sk-container-id-1 div.sk-parallel-item::before {content: \"\";position: absolute;border-left: 1px solid gray;box-sizing: border-box;top: 0;bottom: 0;left: 50%;z-index: -1;}#sk-container-id-1 div.sk-parallel-item {display: flex;flex-direction: column;z-index: 1;position: relative;background-color: white;}#sk-container-id-1 div.sk-parallel-item:first-child::after {align-self: flex-end;width: 50%;}#sk-container-id-1 div.sk-parallel-item:last-child::after {align-self: flex-start;width: 50%;}#sk-container-id-1 div.sk-parallel-item:only-child::after {width: 0;}#sk-container-id-1 div.sk-dashed-wrapped {border: 1px dashed gray;margin: 0 0.4em 0.5em 0.4em;box-sizing: border-box;padding-bottom: 0.4em;background-color: white;}#sk-container-id-1 div.sk-label label {font-family: monospace;font-weight: bold;display: inline-block;line-height: 1.2em;}#sk-container-id-1 div.sk-label-container {text-align: center;}#sk-container-id-1 div.sk-container {/* jupyter's `normalize.less` sets `[hidden] { display: none; }` but bootstrap.min.css set `[hidden] { display: none !important; }` so we also need the `!important` here to be able to override the default hidden behavior on the sphinx rendered scikit-learn.org. See: https://github.com/scikit-learn/scikit-learn/issues/21755 */display: inline-block !important;position: relative;}#sk-container-id-1 div.sk-text-repr-fallback {display: none;}</style><div id=\"sk-container-id-1\" class=\"sk-top-container\"><div class=\"sk-text-repr-fallback\"><pre>LinearRegression()</pre><b>In a Jupyter environment, please rerun this cell to show the HTML representation or trust the notebook. <br />On GitHub, the HTML representation is unable to render, please try loading this page with nbviewer.org.</b></div><div class=\"sk-container\" hidden><div class=\"sk-item\"><div class=\"sk-estimator sk-toggleable\"><input class=\"sk-toggleable__control sk-hidden--visually\" id=\"sk-estimator-id-1\" type=\"checkbox\" checked><label for=\"sk-estimator-id-1\" class=\"sk-toggleable__label sk-toggleable__label-arrow\">LinearRegression</label><div class=\"sk-toggleable__content\"><pre>LinearRegression()</pre></div></div></div></div></div>"
            ]
          },
          "metadata": {},
          "execution_count": 16
        }
      ],
      "source": [
        "from sklearn.linear_model import LinearRegression\n",
        "#sklearn kütüphanesinin içinde machine learning modelleri bulunur.\n",
        "\n",
        "linear_reg = LinearRegression() #LinearRegression modeli linear_reg adlı variable'a eşitlenir.\n",
        "linear_reg.fit(x,y)             #line fit edilir.\n"
      ]
    },
    {
      "cell_type": "code",
      "execution_count": 17,
      "metadata": {
        "colab": {
          "base_uri": "https://localhost:8080/"
        },
        "id": "ZJb9zcNak0mC",
        "outputId": "484a903d-9c7b-409c-9f73-09b12781034c"
      },
      "outputs": [
        {
          "output_type": "stream",
          "name": "stdout",
          "text": [
            "b0:  [[1663.89519747]]\n"
          ]
        }
      ],
      "source": [
        "#prediction\n",
        "import numpy as np\n",
        "\n",
        "b0 = linear_reg.predict([[0]]) #fit edilen line'ın b0 değişkenine yani y eksenini kestiği noktaya bakılır.\n",
        "print(\"b0: \",b0)               #y eksenine kestiği noktada x değeri 0 olacağından y=b0'dır."
      ]
    },
    {
      "cell_type": "code",
      "execution_count": 18,
      "metadata": {
        "colab": {
          "base_uri": "https://localhost:8080/"
        },
        "id": "ceMWHkbqk0mD",
        "outputId": "32461418-182e-4f45-a672-b611c26c7779"
      },
      "outputs": [
        {
          "output_type": "stream",
          "name": "stdout",
          "text": [
            "b0:  [1663.89519747]\n"
          ]
        }
      ],
      "source": [
        "b0_ = linear_reg.intercept_    #ayrıca b0 değeri değeri intercept methoduyla da bulunur.\n",
        "print(\"b0: \",b0_)   "
      ]
    },
    {
      "cell_type": "code",
      "execution_count": 19,
      "metadata": {
        "colab": {
          "base_uri": "https://localhost:8080/"
        },
        "id": "6Nf-oqqVk0mD",
        "outputId": "cc8dd271-a9ab-4136-81a3-524e08bf606f"
      },
      "outputs": [
        {
          "output_type": "stream",
          "name": "stdout",
          "text": [
            "b1:  [[1138.34819698]]\n"
          ]
        }
      ],
      "source": [
        "b1 = linear_reg.coef_  #b1'in diğer adı coefficient'tır. coef methoduyla b1 değeri bulunur.\n",
        "print(\"b1: \",b1)   "
      ]
    },
    {
      "cell_type": "markdown",
      "source": [
        "bo ve b1 değeri bulunduktan sonra;\n",
        "\n",
        "y=bo+b1*x formülünden\n",
        "\n",
        "y=1663+1138*x formülüne sahip olunur. Burada y maaş, x deneyimdir.\n",
        "\n",
        "maas=1663+1138*deneyim -> fit edilen linear regression'ın denklemidir.\n",
        "\n",
        "Bu denklem ile deneyim (bağımsız değişken) ile maas (bağımlı değişken) predict edilir."
      ],
      "metadata": {
        "id": "pbzStX2IDgbA"
      }
    },
    {
      "cell_type": "code",
      "execution_count": 20,
      "metadata": {
        "colab": {
          "base_uri": "https://localhost:8080/"
        },
        "id": "RkBNDPoDk0mF",
        "outputId": "40321ad9-e08e-4b92-e03a-d16089520152"
      },
      "outputs": [
        {
          "output_type": "stream",
          "name": "stdout",
          "text": [
            "14181\n"
          ]
        }
      ],
      "source": [
        "new_salary = 1663 + 1138*11 #11 yıllık deneyimi olan birinin maaşı linear regression denklemine göre hesaplanmıştır.\n",
        "print(new_salary)"
      ]
    },
    {
      "cell_type": "code",
      "execution_count": 21,
      "metadata": {
        "colab": {
          "base_uri": "https://localhost:8080/"
        },
        "id": "QKQEaBSvk0mF",
        "outputId": "560c3896-d449-4213-96d0-740b9a53ae30"
      },
      "outputs": [
        {
          "output_type": "stream",
          "name": "stdout",
          "text": [
            "b11:  [[14185.72536421]]\n"
          ]
        }
      ],
      "source": [
        "b11 = linear_reg.predict([[11]])  #11 yıllık deneyimi olan birinin maaşı predict methoduyla bulunur.\n",
        "print(\"b11: \",b11)"
      ]
    },
    {
      "cell_type": "markdown",
      "source": [
        "fit edilen line görselleştirilir."
      ],
      "metadata": {
        "id": "gkv5mgewGaMi"
      }
    },
    {
      "cell_type": "code",
      "source": [
        "y_head = linear_reg.predict(x)"
      ],
      "metadata": {
        "id": "ZnkPDWEPO0v4"
      },
      "execution_count": 22,
      "outputs": []
    },
    {
      "cell_type": "code",
      "source": [
        "plt.plot(x, y_head, color=\"red\")\n",
        "plt.scatter(x,y)\n",
        "plt.show()"
      ],
      "metadata": {
        "colab": {
          "base_uri": "https://localhost:8080/",
          "height": 430
        },
        "id": "kt89yyBQO_6Z",
        "outputId": "3aca9e7d-04c1-4fd1-8e41-6ff835d25099"
      },
      "execution_count": 23,
      "outputs": [
        {
          "output_type": "display_data",
          "data": {
            "text/plain": [
              "<Figure size 640x480 with 1 Axes>"
            ],
            "image/png": "[encoded data removed]"
          },
          "metadata": {}
        }
      ]
    },
    {
      "cell_type": "code",
      "source": [
        "from sklearn.metrics import r2_score\n",
        "print(\"R Square Score: \",r2_score(y,y_head))"
      ],
      "metadata": {
        "colab": {
          "base_uri": "https://localhost:8080/"
        },
        "id": "yB4IY_JOPHIp",
        "outputId": "8463e20f-abaa-4b65-9958-829f36428fbe"
      },
      "execution_count": 24,
      "outputs": [
        {
          "output_type": "stream",
          "name": "stdout",
          "text": [
            "R Square Score:  0.9775283164949903\n"
          ]
        }
      ]
    },
    {
      "cell_type": "code",
      "source": [
        "from sklearn.metrics import mean_squared_error\n",
        "print(\"Mean Squared Error: \",mean_squared_error(y,y_head))"
      ],
      "metadata": {
        "colab": {
          "base_uri": "https://localhost:8080/"
        },
        "id": "B2c6hULSPax7",
        "outputId": "ebdc9f0a-6dc3-420c-ee7b-7caf57fcf0ec"
      },
      "execution_count": 27,
      "outputs": [
        {
          "output_type": "stream",
          "name": "stdout",
          "text": [
            "Mean Squared Error:  685945.845961494\n"
          ]
        }
      ]
    },
    {
      "cell_type": "code",
      "source": [
        "MSE = np.square(np.subtract(y,y_head)).mean()\n",
        "print(\"Mean Squared Error: \",MSE)"
      ],
      "metadata": {
        "colab": {
          "base_uri": "https://localhost:8080/"
        },
        "id": "E5B5Mb8aQInk",
        "outputId": "c2c6d524-9fa9-4f30-e680-e83435348901"
      },
      "execution_count": 30,
      "outputs": [
        {
          "output_type": "stream",
          "name": "stdout",
          "text": [
            "Mean Squared Error:  685945.845961494\n"
          ]
        }
      ]
    }
  ],
  "metadata": {
    "kernelspec": {
      "display_name": "Python 3",
      "language": "python",
      "name": "python3"
    },
    "language_info": {
      "codemirror_mode": {
        "name": "ipython",
        "version": 3
      },
      "file_extension": ".py",
      "mimetype": "text/x-python",
      "name": "python",
      "nbconvert_exporter": "python",
      "pygments_lexer": "ipython3",
      "version": "3.7.1"
    },
    "colab": {
      "provenance": []
    }
  },
  "nbformat": 4,
  "nbformat_minor": 0
}