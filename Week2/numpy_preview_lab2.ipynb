{
  "cells": [
    {
      "cell_type": "code",
      "execution_count": 3,
      "id": "7ef60fd6",
      "metadata": {
        "id": "7ef60fd6"
      },
      "outputs": [],
      "source": [
        "#importing\n",
        "import numpy as np #we can use numpy as a shorten way 'np'"
      ]
    },
    {
      "cell_type": "code",
      "execution_count": 8,
      "id": "da7e7a3a",
      "metadata": {
        "colab": {
          "base_uri": "https://localhost:8080/"
        },
        "id": "da7e7a3a",
        "outputId": "aad2090e-d09d-4b78-ab16-2c5a10b5b236"
      },
      "outputs": [
        {
          "output_type": "stream",
          "name": "stdout",
          "text": [
            "[1 2 3]\n"
          ]
        }
      ],
      "source": [
        "arr = np.array([1,2,3]) \n",
        "print(arr)"
      ]
    },
    {
      "cell_type": "code",
      "execution_count": 9,
      "id": "429ea82a",
      "metadata": {
        "colab": {
          "base_uri": "https://localhost:8080/"
        },
        "id": "429ea82a",
        "outputId": "e230a633-d503-48c9-86df-dce754afd18c"
      },
      "outputs": [
        {
          "output_type": "stream",
          "name": "stdout",
          "text": [
            "(15,)\n"
          ]
        }
      ],
      "source": [
        "arr2= np.array([1,2,3,4,5,6,7,8,9,10,11,12,13,14,15])\n",
        "\n",
        "print(arr2.shape) "
      ]
    },
    {
      "cell_type": "code",
      "execution_count": 11,
      "id": "fb7385eb",
      "metadata": {
        "colab": {
          "base_uri": "https://localhost:8080/"
        },
        "id": "fb7385eb",
        "outputId": "51824c64-e3d1-4535-9cd8-cf96e5865682"
      },
      "outputs": [
        {
          "output_type": "stream",
          "name": "stdout",
          "text": [
            "[[ 1  2  3  4  5]\n",
            " [ 6  7  8  9 10]\n",
            " [11 12 13 14 15]]\n"
          ]
        }
      ],
      "source": [
        "a = arr2.reshape(3,5) \n",
        "print(a)"
      ]
    },
    {
      "cell_type": "code",
      "execution_count": 12,
      "id": "6fb38831",
      "metadata": {
        "colab": {
          "base_uri": "https://localhost:8080/"
        },
        "id": "6fb38831",
        "outputId": "fbf89ba0-13a5-428a-d43a-999fdadf9a90"
      },
      "outputs": [
        {
          "output_type": "stream",
          "name": "stdout",
          "text": [
            "shape:  (3, 5)\n",
            "dimension:  2\n",
            "data type:  int64\n",
            "size:  15\n",
            "type <class 'numpy.ndarray'>\n"
          ]
        }
      ],
      "source": [
        "print(\"shape: \",a.shape)\n",
        "print(\"dimension: \",a.ndim)\n",
        "print(\"data type: \",a.dtype.name) \n",
        "print(\"size: \",a.size)\n",
        "print(\"type\",type(a)) "
      ]
    },
    {
      "cell_type": "code",
      "execution_count": 13,
      "id": "74686d8b",
      "metadata": {
        "id": "74686d8b"
      },
      "outputs": [],
      "source": [
        "arr3= np.array([[1,2,3,4],[5,6,7,8],[9,10,11,12]]) "
      ]
    },
    {
      "cell_type": "code",
      "execution_count": 14,
      "id": "61d93f0c",
      "metadata": {
        "colab": {
          "base_uri": "https://localhost:8080/"
        },
        "id": "61d93f0c",
        "outputId": "aab71c57-b48c-451a-8e06-cd349bed841f"
      },
      "outputs": [
        {
          "output_type": "stream",
          "name": "stdout",
          "text": [
            "[[ 1  2  3  4]\n",
            " [ 5  6  7  8]\n",
            " [ 9 10 11 12]]\n"
          ]
        }
      ],
      "source": [
        "print(arr3) "
      ]
    },
    {
      "cell_type": "code",
      "execution_count": 15,
      "id": "f9cdcf44",
      "metadata": {
        "colab": {
          "base_uri": "https://localhost:8080/"
        },
        "id": "f9cdcf44",
        "outputId": "add15424-c845-4049-c91f-b70b06661f3f"
      },
      "outputs": [
        {
          "output_type": "stream",
          "name": "stdout",
          "text": [
            "(3, 4)\n"
          ]
        }
      ],
      "source": [
        "print(arr3.shape) "
      ]
    },
    {
      "cell_type": "code",
      "execution_count": 16,
      "id": "eba3ca15",
      "metadata": {
        "id": "eba3ca15"
      },
      "outputs": [],
      "source": [
        "zeros= np.zeros((3,4))"
      ]
    },
    {
      "cell_type": "code",
      "execution_count": null,
      "id": "4fadbd03",
      "metadata": {
        "id": "4fadbd03",
        "outputId": "11306a09-62c4-4ea2-f918-69d57df1fe83"
      },
      "outputs": [
        {
          "name": "stdout",
          "output_type": "stream",
          "text": [
            "[[5. 0. 0. 0.]\n",
            " [0. 0. 0. 0.]\n",
            " [0. 0. 0. 0.]]\n"
          ]
        }
      ],
      "source": [
        "zeros[0,0]=5\n",
        "print(zeros)"
      ]
    },
    {
      "cell_type": "code",
      "execution_count": 17,
      "id": "4fce2668",
      "metadata": {
        "colab": {
          "base_uri": "https://localhost:8080/"
        },
        "id": "4fce2668",
        "outputId": "628d4a3b-17d8-4a74-ee90-9a478ace8be4"
      },
      "outputs": [
        {
          "output_type": "execute_result",
          "data": {
            "text/plain": [
              "array([[1., 1., 1., 1.],\n",
              "       [1., 1., 1., 1.],\n",
              "       [1., 1., 1., 1.]])"
            ]
          },
          "metadata": {},
          "execution_count": 17
        }
      ],
      "source": [
        "np.ones((3,4)) "
      ]
    },
    {
      "cell_type": "code",
      "execution_count": 19,
      "id": "8d657390",
      "metadata": {
        "colab": {
          "base_uri": "https://localhost:8080/"
        },
        "id": "8d657390",
        "outputId": "b7c76cef-34d8-4fd7-d4d6-a03ee924d29b"
      },
      "outputs": [
        {
          "output_type": "execute_result",
          "data": {
            "text/plain": [
              "array([[0. , 0. , 0.3, 1. , 0. ],\n",
              "       [0. , 1. , 1. , 1. , 1. ],\n",
              "       [1. , 1. , 1. , 0. , 0. ],\n",
              "       [1. , 0.5, 0. , 0. , 1. ]])"
            ]
          },
          "metadata": {},
          "execution_count": 19
        }
      ],
      "source": [
        "np.empty((4,5))"
      ]
    },
    {
      "cell_type": "code",
      "execution_count": 20,
      "id": "4cb8474a",
      "metadata": {
        "colab": {
          "base_uri": "https://localhost:8080/"
        },
        "id": "4cb8474a",
        "outputId": "30ad28e2-ba93-4f09-9b29-611fa5a3132b"
      },
      "outputs": [
        {
          "output_type": "execute_result",
          "data": {
            "text/plain": [
              "array([10, 15, 20, 25, 30, 35, 40, 45])"
            ]
          },
          "metadata": {},
          "execution_count": 20
        }
      ],
      "source": [
        "np.arange(10,50,5) "
      ]
    },
    {
      "cell_type": "code",
      "execution_count": 21,
      "id": "7b29c1c4",
      "metadata": {
        "colab": {
          "base_uri": "https://localhost:8080/"
        },
        "id": "7b29c1c4",
        "outputId": "9eabf38b-fe93-46f6-e42a-2d8e4e18e66a"
      },
      "outputs": [
        {
          "output_type": "stream",
          "name": "stdout",
          "text": [
            "[ 0.          0.52631579  1.05263158  1.57894737  2.10526316  2.63157895\n",
            "  3.15789474  3.68421053  4.21052632  4.73684211  5.26315789  5.78947368\n",
            "  6.31578947  6.84210526  7.36842105  7.89473684  8.42105263  8.94736842\n",
            "  9.47368421 10.        ]\n"
          ]
        }
      ],
      "source": [
        "a= np.linspace(0,10,20) \n",
        "print(a)"
      ]
    },
    {
      "cell_type": "code",
      "execution_count": 22,
      "id": "daa5de41",
      "metadata": {
        "colab": {
          "base_uri": "https://localhost:8080/"
        },
        "id": "daa5de41",
        "outputId": "e8745eb9-fd43-4a70-f63b-761acf0f9839"
      },
      "outputs": [
        {
          "output_type": "stream",
          "name": "stdout",
          "text": [
            "[5 7 9]\n",
            "[-3 -3 -3]\n",
            "[1 4 9]\n"
          ]
        }
      ],
      "source": [
        "a= np.array([1,2,3])\n",
        "b= np.array([4,5,6]) \n",
        "\n",
        "print(a+b) \n",
        "print(a-b)\n",
        "print(a**2)"
      ]
    },
    {
      "cell_type": "code",
      "execution_count": 23,
      "id": "ac5cb7ae",
      "metadata": {
        "id": "ac5cb7ae"
      },
      "outputs": [],
      "source": [
        "a= np.array([1,2,3,4,5,6,7])"
      ]
    },
    {
      "cell_type": "code",
      "execution_count": 24,
      "id": "81298b9a",
      "metadata": {
        "colab": {
          "base_uri": "https://localhost:8080/"
        },
        "id": "81298b9a",
        "outputId": "667b28f9-4d2d-4128-e8a5-f98bfa43db26"
      },
      "outputs": [
        {
          "output_type": "stream",
          "name": "stdout",
          "text": [
            "[1, 2, 3, 4]\n",
            "[5 6 7 8]\n"
          ]
        }
      ],
      "source": [
        "liste = [1,2,3,4]\n",
        "array = np.array([5,6,7,8])\n",
        "print(liste)\n",
        "print(array)"
      ]
    },
    {
      "cell_type": "code",
      "execution_count": 25,
      "id": "9f3760ac",
      "metadata": {
        "colab": {
          "base_uri": "https://localhost:8080/"
        },
        "id": "9f3760ac",
        "outputId": "9d10f4b1-bafe-4886-f57a-32674bb4a1c2"
      },
      "outputs": [
        {
          "output_type": "stream",
          "name": "stdout",
          "text": [
            "[1 2 3 4]\n"
          ]
        }
      ],
      "source": [
        "array = np.array(liste)\n",
        "print(array)"
      ]
    },
    {
      "cell_type": "code",
      "execution_count": 26,
      "id": "628d240c",
      "metadata": {
        "colab": {
          "base_uri": "https://localhost:8080/"
        },
        "id": "628d240c",
        "outputId": "59f5f6f1-61fd-4c4b-db4c-dbc90c6f5114"
      },
      "outputs": [
        {
          "output_type": "stream",
          "name": "stdout",
          "text": [
            "[1, 2, 3, 4]\n"
          ]
        }
      ],
      "source": [
        "liste2 = list(array) \n",
        "print(liste2)"
      ]
    },
    {
      "cell_type": "code",
      "execution_count": 27,
      "id": "4ba9224e",
      "metadata": {
        "colab": {
          "base_uri": "https://localhost:8080/"
        },
        "id": "4ba9224e",
        "outputId": "54eedaa3-ea67-4f1c-a96f-361a1d62af99"
      },
      "outputs": [
        {
          "output_type": "stream",
          "name": "stdout",
          "text": [
            "[1 2 3]\n"
          ]
        }
      ],
      "source": [
        "a = np.array([1,2,3])\n",
        "print(a)"
      ]
    },
    {
      "cell_type": "code",
      "execution_count": 28,
      "id": "131551f1",
      "metadata": {
        "colab": {
          "base_uri": "https://localhost:8080/"
        },
        "id": "131551f1",
        "outputId": "3216af12-b534-4e70-ef0a-7279d1a8388f"
      },
      "outputs": [
        {
          "output_type": "stream",
          "name": "stdout",
          "text": [
            "[5 2 3] [5 2 3] [5 2 3]\n"
          ]
        }
      ],
      "source": [
        "b=a\n",
        "c=a\n",
        "b[0]=5\n",
        "print(a,b,c)"
      ]
    },
    {
      "cell_type": "code",
      "execution_count": 29,
      "id": "5a764d65",
      "metadata": {
        "id": "5a764d65"
      },
      "outputs": [],
      "source": [
        "d = a.copy()"
      ]
    },
    {
      "cell_type": "code",
      "execution_count": 30,
      "id": "ee1dc9a2",
      "metadata": {
        "colab": {
          "base_uri": "https://localhost:8080/"
        },
        "id": "ee1dc9a2",
        "outputId": "aa68d589-a04c-4e76-d701-3e5adef9f2af"
      },
      "outputs": [
        {
          "output_type": "stream",
          "name": "stdout",
          "text": [
            "[1 2 3 4 5 6 7]\n"
          ]
        }
      ],
      "source": [
        "a= np.array([1,2,3,4,5,6,7])\n",
        "print(a)"
      ]
    },
    {
      "cell_type": "code",
      "execution_count": 31,
      "id": "d55bf793",
      "metadata": {
        "colab": {
          "base_uri": "https://localhost:8080/"
        },
        "id": "d55bf793",
        "outputId": "fb015257-9291-4883-f9d1-83120976e7d6"
      },
      "outputs": [
        {
          "output_type": "stream",
          "name": "stdout",
          "text": [
            "1\n"
          ]
        }
      ],
      "source": [
        "print(a[0])"
      ]
    },
    {
      "cell_type": "code",
      "execution_count": 32,
      "id": "26b8d670",
      "metadata": {
        "colab": {
          "base_uri": "https://localhost:8080/"
        },
        "id": "26b8d670",
        "outputId": "0dcd402d-6945-48bc-b668-6ea8a444e13c"
      },
      "outputs": [
        {
          "output_type": "stream",
          "name": "stdout",
          "text": [
            "[1 2 3 4]\n"
          ]
        }
      ],
      "source": [
        "print(a[0:4]) "
      ]
    },
    {
      "cell_type": "code",
      "execution_count": 33,
      "id": "b3d05df4",
      "metadata": {
        "colab": {
          "base_uri": "https://localhost:8080/"
        },
        "id": "b3d05df4",
        "outputId": "e23f91e9-a807-4c2d-f9d1-5c2e5218500d"
      },
      "outputs": [
        {
          "output_type": "stream",
          "name": "stdout",
          "text": [
            "[7 6 5 4 3 2 1]\n"
          ]
        }
      ],
      "source": [
        "reverse_array = a[::-1] \n",
        "print(reverse_array)"
      ]
    },
    {
      "cell_type": "code",
      "execution_count": 34,
      "id": "788d2140",
      "metadata": {
        "colab": {
          "base_uri": "https://localhost:8080/"
        },
        "id": "788d2140",
        "outputId": "f3d559fb-c5c5-4265-f3df-562fadc81ebc"
      },
      "outputs": [
        {
          "output_type": "stream",
          "name": "stdout",
          "text": [
            "[[ 1  2  3  4  5]\n",
            " [ 6  7  8  9 10]]\n"
          ]
        }
      ],
      "source": [
        "b = np.array([[1,2,3,4,5],[6,7,8,9,10]]) \n",
        "print(b)"
      ]
    },
    {
      "cell_type": "code",
      "execution_count": 35,
      "id": "75d62246",
      "metadata": {
        "colab": {
          "base_uri": "https://localhost:8080/"
        },
        "id": "75d62246",
        "outputId": "ee126170-d45d-49da-bbd1-6ab1eba0a798"
      },
      "outputs": [
        {
          "output_type": "stream",
          "name": "stdout",
          "text": [
            "7\n",
            "[2 7]\n",
            "[ 6  7  8  9 10]\n",
            "[7 8 9]\n",
            "[ 6  7  8  9 10]\n",
            "[ 5 10]\n"
          ]
        }
      ],
      "source": [
        "print(b[1,1]) \n",
        "print(b[:,1])\n",
        "print(b[1,:])\n",
        "print(b[1,1:4]) \n",
        "print(b[-1,:]) \n",
        "print(b[:,-1]) "
      ]
    },
    {
      "cell_type": "code",
      "execution_count": 36,
      "id": "339ffdd3",
      "metadata": {
        "colab": {
          "base_uri": "https://localhost:8080/"
        },
        "id": "339ffdd3",
        "outputId": "80c4111f-c8e8-4d54-973b-e9fc25a69c28"
      },
      "outputs": [
        {
          "output_type": "stream",
          "name": "stdout",
          "text": [
            "[[1 2 3]\n",
            " [4 5 6]\n",
            " [7 8 9]]\n"
          ]
        }
      ],
      "source": [
        "array = np.array([[1,2,3],[4,5,6],[7,8,9]])\n",
        "print(array)"
      ]
    },
    {
      "cell_type": "code",
      "execution_count": 37,
      "id": "b7065191",
      "metadata": {
        "colab": {
          "base_uri": "https://localhost:8080/"
        },
        "id": "b7065191",
        "outputId": "e8267101-89d0-40db-b854-390e237341c1"
      },
      "outputs": [
        {
          "output_type": "stream",
          "name": "stdout",
          "text": [
            "[1 2 3 4 5 6 7 8 9]\n"
          ]
        }
      ],
      "source": [
        "a = array.ravel() \n",
        "print(a)"
      ]
    },
    {
      "cell_type": "code",
      "execution_count": 38,
      "id": "324055eb",
      "metadata": {
        "colab": {
          "base_uri": "https://localhost:8080/"
        },
        "id": "324055eb",
        "outputId": "4b76f1d5-1ebf-4ab5-b1cd-069eb322d810"
      },
      "outputs": [
        {
          "output_type": "stream",
          "name": "stdout",
          "text": [
            "[[1 2 3]\n",
            " [4 5 6]\n",
            " [7 8 9]]\n"
          ]
        }
      ],
      "source": [
        "array2 = a.reshape(3,3) \n",
        "print(array2)"
      ]
    },
    {
      "cell_type": "code",
      "execution_count": 39,
      "id": "83ed3932",
      "metadata": {
        "colab": {
          "base_uri": "https://localhost:8080/"
        },
        "id": "83ed3932",
        "outputId": "ab0e9662-2704-40fd-f7f6-992132a9c897"
      },
      "outputs": [
        {
          "output_type": "stream",
          "name": "stdout",
          "text": [
            "[[1 4 7]\n",
            " [2 5 8]\n",
            " [3 6 9]]\n"
          ]
        }
      ],
      "source": [
        "array_transpose = array2.T\n",
        "print(array_transpose)"
      ]
    },
    {
      "cell_type": "code",
      "execution_count": 45,
      "id": "e5592d5b",
      "metadata": {
        "colab": {
          "base_uri": "https://localhost:8080/"
        },
        "id": "e5592d5b",
        "outputId": "bd4d67bf-92de-4fce-f195-5cd68ccb9304"
      },
      "outputs": [
        {
          "output_type": "stream",
          "name": "stdout",
          "text": [
            "[[1 2]\n",
            " [3 4]\n",
            " [5 6]]\n"
          ]
        }
      ],
      "source": [
        "arr3 = np.array([[1,2],[3,4],[5,6]])\n",
        "print(arr3)"
      ]
    },
    {
      "cell_type": "code",
      "execution_count": 47,
      "id": "2be4d202",
      "metadata": {
        "colab": {
          "base_uri": "https://localhost:8080/"
        },
        "id": "2be4d202",
        "outputId": "64e65aec-899c-4ef3-d7d2-3c4fa52a67f3"
      },
      "outputs": [
        {
          "output_type": "stream",
          "name": "stdout",
          "text": [
            "[[1 2 3]\n",
            " [4 5 6]]\n"
          ]
        }
      ],
      "source": [
        "arr3.resize((2,3)) \n",
        "print(arr3)"
      ]
    },
    {
      "cell_type": "code",
      "source": [],
      "metadata": {
        "id": "pksxMiTsgHc_"
      },
      "id": "pksxMiTsgHc_",
      "execution_count": null,
      "outputs": []
    }
  ],
  "metadata": {
    "kernelspec": {
      "display_name": "Python 3 (ipykernel)",
      "language": "python",
      "name": "python3"
    },
    "language_info": {
      "codemirror_mode": {
        "name": "ipython",
        "version": 3
      },
      "file_extension": ".py",
      "mimetype": "text/x-python",
      "name": "python",
      "nbconvert_exporter": "python",
      "pygments_lexer": "ipython3",
      "version": "3.9.12"
    },
    "colab": {
      "provenance": []
    }
  },
  "nbformat": 4,
  "nbformat_minor": 5
}