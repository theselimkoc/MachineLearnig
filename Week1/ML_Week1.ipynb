{
  "nbformat": 4,
  "nbformat_minor": 0,
  "metadata": {
    "colab": {
      "provenance": []
    },
    "kernelspec": {
      "name": "python3",
      "display_name": "Python 3"
    },
    "language_info": {
      "name": "python"
    }
  },
  "cells": [
    {
      "cell_type": "code",
      "execution_count": 1,
      "metadata": {
        "id": "k9ClAEkQitn-"
      },
      "outputs": [],
      "source": [
        "var_1 = 3\n",
        "var_2 = 5\n",
        "\n",
        "var_3 = var_1+var_2\n",
        "\n",
        "var_4 = 'name'\n",
        "var_5 = 43.23"
      ]
    },
    {
      "cell_type": "code",
      "source": [
        "list_int = []\n",
        "\n",
        "for i in range(1,20,2):\n",
        "  list_int.append(i)\n",
        "var = list_int[3]\n",
        "list_divide = list_int[0:9]\n",
        "help(list_int.append)\n",
        "list_int.sort()"
      ],
      "metadata": {
        "colab": {
          "base_uri": "https://localhost:8080/"
        },
        "id": "a3ZOwnNBjB8r",
        "outputId": "b4d57312-75a3-4c4d-a861-ca6f85ad1367"
      },
      "execution_count": 3,
      "outputs": [
        {
          "output_type": "stream",
          "name": "stdout",
          "text": [
            "Help on built-in function append:\n",
            "\n",
            "append(object, /) method of builtins.list instance\n",
            "    Append object to the end of the list.\n",
            "\n"
          ]
        }
      ]
    },
    {
      "cell_type": "code",
      "source": [
        "mList = []\n",
        "i=5\n",
        "\n",
        "while i<10:\n",
        "  print(i)\n",
        "  i+=1\n",
        "for i in range(1,10):\n",
        "  mList.append(i)\n",
        "for i in mList:\n",
        "  print(i)\n",
        "\n",
        "if sum(mList)>max(mList):\n",
        "  print(i)\n",
        "else:\n",
        "  print(max(mList))"
      ],
      "metadata": {
        "colab": {
          "base_uri": "https://localhost:8080/"
        },
        "id": "cRvD8W1mjpPO",
        "outputId": "429cf27e-1d89-4420-f9f4-26dc63f00219"
      },
      "execution_count": 8,
      "outputs": [
        {
          "output_type": "stream",
          "name": "stdout",
          "text": [
            "5\n",
            "6\n",
            "7\n",
            "8\n",
            "9\n",
            "1\n",
            "2\n",
            "3\n",
            "4\n",
            "5\n",
            "6\n",
            "7\n",
            "8\n",
            "9\n",
            "9\n"
          ]
        }
      ]
    },
    {
      "cell_type": "code",
      "source": [
        "isTurn = True\n",
        "turn = True\n",
        "\n",
        "if turn & isTurn:\n",
        "  print('It is your turn')\n",
        "  isTurn = False\n",
        "elif turn:\n",
        "  print(\"It is not your turn! please wait a god damn second boi\")\n",
        "\n",
        "print('------------------------------------------')\n",
        "waiting_list = [1,2,3,4,5]\n",
        "id = 8\n",
        "\n",
        "if id in waiting_list:\n",
        "  print(f'{id} it is your turn')\n",
        "else:\n",
        "  print('i am sorry you are not on the list. what a pity!')"
      ],
      "metadata": {
        "colab": {
          "base_uri": "https://localhost:8080/"
        },
        "id": "UIOIWbjSkdLo",
        "outputId": "37235442-e795-4fe2-aead-c1fe566c5277"
      },
      "execution_count": 17,
      "outputs": [
        {
          "output_type": "stream",
          "name": "stdout",
          "text": [
            "It is your turn\n",
            "------------------------------------------\n",
            "i am sorry you are not on the list. what a pity!\n"
          ]
        }
      ]
    },
    {
      "cell_type": "code",
      "source": [
        "def turn(isTurn:bool):\n",
        "  if isTurn:\n",
        "    isTurn = False\n",
        "    print('YOUR TURN!')\n",
        "\n",
        "turn(True)\n",
        "turn(False)\n",
        "print('-----------------')\n",
        "variable = lambda x: not x\n",
        "result = variable(True)\n",
        "print(result)"
      ],
      "metadata": {
        "colab": {
          "base_uri": "https://localhost:8080/"
        },
        "id": "zXGFQdPumIe0",
        "outputId": "398d1904-ba3d-4de4-d831-08841a3b40c3"
      },
      "execution_count": 24,
      "outputs": [
        {
          "output_type": "stream",
          "name": "stdout",
          "text": [
            "YOUR TURN!\n",
            "-----------------\n",
            "False\n"
          ]
        }
      ]
    },
    {
      "cell_type": "code",
      "source": [
        "dictionary1 = {'DL':19, 'NLP':29,'ML':39}\n",
        "\n",
        "for key in dictionary1.keys():\n",
        "  print(key + ': {}'.format(dictionary1[key]))"
      ],
      "metadata": {
        "colab": {
          "base_uri": "https://localhost:8080/"
        },
        "id": "0_QKq7AHnbse",
        "outputId": "47a680dd-ef00-421b-80ef-16d8ea71509c"
      },
      "execution_count": 28,
      "outputs": [
        {
          "output_type": "stream",
          "name": "stdout",
          "text": [
            "DL: 19\n",
            "NLP: 29\n",
            "ML: 39\n"
          ]
        }
      ]
    },
    {
      "cell_type": "code",
      "source": [],
      "metadata": {
        "id": "540MpqtnoRtu"
      },
      "execution_count": null,
      "outputs": []
    }
  ]
}